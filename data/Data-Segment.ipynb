{
 "cells": [
  {
   "cell_type": "code",
   "execution_count": 13,
   "metadata": {},
   "outputs": [],
   "source": [
    "import numpy as np\n",
    "from hdf5storage import loadmat\n",
    "from hdf5storage import savemat\n",
    "from sklearn.preprocessing import StandardScaler\n",
    "import os\n",
    "\n",
    "def process(domain, save=False):\n",
    "\n",
    "    data = {}\n",
    "    data['dname'] = domain\n",
    "    \n",
    "    if domain == 'jura':\n",
    "        filename = 'jura/jura.mat'\n",
    "        raw = loadmat(filename, squeeze_me=True, struct_as_record=False, mat_dtype=True)['jura']\n",
    "\n",
    "        X_all = raw[:, 0:2] # X, Y\n",
    "        Y_all = raw[:, [2, -2, -1]] # Cd, Ni, Zn\n",
    "        N_all = X_all.shape[0]\n",
    "        \n",
    "        N_train = 249\n",
    "        N_test = 100\n",
    "        \n",
    "        DList = [3,1,1] \n",
    "\n",
    "        print('Xall shape:', X_all.shape)\n",
    "        print('Yall shape:', Y_all.shape)\n",
    "    else:\n",
    "        print('No valid dataset found... program terminated...')\n",
    "        return\n",
    "\n",
    "    scaler = StandardScaler()\n",
    "    scaler.fit(X_all)\n",
    "    N_X_all = scaler.transform(X_all)\n",
    "    X_mean = scaler.mean_\n",
    "    X_std = scaler.scale_\n",
    "\n",
    "    scaler.fit(Y_all)\n",
    "    N_Y_all = scaler.transform(Y_all)\n",
    "    Y_mean = scaler.mean_\n",
    "    Y_std = scaler.scale_\n",
    "\n",
    "    perm = np.random.permutation(N_all)\n",
    "\n",
    "    N_X_all = N_X_all[perm]\n",
    "    N_Y_all = N_Y_all[perm]\n",
    "\n",
    "    X_train = N_X_all[0:N_train, :]\n",
    "    X_test = N_X_all[-N_test:, :]\n",
    "\n",
    "    Y_train = N_Y_all[0:N_train, :]\n",
    "    Y_test = N_Y_all[-N_test: , :]\n",
    "\n",
    "    data['N_all'] = N_all\n",
    "    data['N_train'] = N_train\n",
    "    data['N_test'] = N_test\n",
    "\n",
    "    data['X_all'] = X_all\n",
    "    data['Y_all'] = Y_all\n",
    "    data['DList'] = DList\n",
    "\n",
    "    data['X_train'] = X_train\n",
    "    data['X_test'] = X_test\n",
    "    data['X_mean'] = X_mean\n",
    "    data['X_std'] = X_std\n",
    "\n",
    "    data['Y_train'] = Y_train\n",
    "    data['Y_test'] = Y_test\n",
    "    data['Y_mean'] = Y_mean\n",
    "    data['Y_std'] = Y_std\n",
    "    data['Y_test_ground'] = Y_test * Y_std + Y_mean\n",
    "    \n",
    "    if save==True:\n",
    "        if not os.path.exists('processed'):\n",
    "            os.makedirs('processed')\n",
    "        savemat('processed/' + data['dname'] + '.mat', data)\n",
    "        print('saved to', 'processed/' + data['dname'] + '.mat')\n",
    "        \n",
    "    return data"
   ]
  },
  {
   "cell_type": "code",
   "execution_count": 14,
   "metadata": {},
   "outputs": [
    {
     "name": "stdout",
     "output_type": "stream",
     "text": [
      "(359, 2)\n",
      "(359, 3)\n"
     ]
    }
   ],
   "source": [
    "domain = 'jura'\n",
    "\n",
    "data = process(domain)"
   ]
  },
  {
   "cell_type": "code",
   "execution_count": null,
   "metadata": {},
   "outputs": [],
   "source": []
  }
 ],
 "metadata": {
  "kernelspec": {
   "display_name": "Python 3",
   "language": "python",
   "name": "python3"
  },
  "language_info": {
   "codemirror_mode": {
    "name": "ipython",
    "version": 3
   },
   "file_extension": ".py",
   "mimetype": "text/x-python",
   "name": "python",
   "nbconvert_exporter": "python",
   "pygments_lexer": "ipython3",
   "version": "3.6.9"
  }
 },
 "nbformat": 4,
 "nbformat_minor": 2
}
